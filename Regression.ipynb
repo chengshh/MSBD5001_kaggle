{
 "cells": [
  {
   "cell_type": "code",
   "execution_count": 4,
   "metadata": {},
   "outputs": [],
   "source": [
    "import numpy as np\n",
    "import pandas as pd"
   ]
  },
  {
   "cell_type": "code",
   "execution_count": 5,
   "metadata": {},
   "outputs": [],
   "source": [
    "import matplotlib.pyplot as plt\n",
    "import xgboost as xgb\n",
    "import numpy as np\n",
    "from xgboost import plot_importance\n",
    "from sklearn.preprocessing import Imputer\n",
    "from sklearn.model_selection import train_test_split\n",
    "from sklearn.metrics import mean_squared_error"
   ]
  },
  {
   "cell_type": "code",
   "execution_count": null,
   "metadata": {},
   "outputs": [],
   "source": []
  },
  {
   "cell_type": "code",
   "execution_count": null,
   "metadata": {},
   "outputs": [],
   "source": []
  },
  {
   "cell_type": "code",
   "execution_count": null,
   "metadata": {},
   "outputs": [],
   "source": []
  },
  {
   "cell_type": "code",
   "execution_count": 47,
   "metadata": {},
   "outputs": [],
   "source": [
    "df = pd.read_csv('kaggle_data.csv',sep=',',header=0)"
   ]
  },
  {
   "cell_type": "code",
   "execution_count": 48,
   "metadata": {},
   "outputs": [],
   "source": [
    "df = df.drop(index=[5, 76])"
   ]
  },
  {
   "cell_type": "code",
   "execution_count": 49,
   "metadata": {},
   "outputs": [
    {
     "name": "stdout",
     "output_type": "stream",
     "text": [
      "(355,)\n",
      "<class 'numpy.ndarray'>\n"
     ]
    },
    {
     "name": "stderr",
     "output_type": "stream",
     "text": [
      "D:\\coding\\lib\\site-packages\\ipykernel_launcher.py:1: FutureWarning: Method .as_matrix will be removed in a future version. Use .values instead.\n",
      "  \"\"\"Entry point for launching an IPython kernel.\n"
     ]
    }
   ],
   "source": [
    "y = df['playtime_forever'].as_matrix()\n",
    "print(y.shape)\n",
    "print(type(y))"
   ]
  },
  {
   "cell_type": "code",
   "execution_count": 50,
   "metadata": {},
   "outputs": [
    {
     "name": "stdout",
     "output_type": "stream",
     "text": [
      "(355, 103)\n",
      "<class 'numpy.ndarray'>\n"
     ]
    },
    {
     "name": "stderr",
     "output_type": "stream",
     "text": [
      "D:\\coding\\lib\\site-packages\\ipykernel_launcher.py:2: FutureWarning: Method .as_matrix will be removed in a future version. Use .values instead.\n",
      "  \n"
     ]
    }
   ],
   "source": [
    "df1 = df.drop(columns = ['playtime_forever'])\n",
    "x = df1.as_matrix()\n",
    "print(x.shape)\n",
    "print(type(x))"
   ]
  },
  {
   "cell_type": "code",
   "execution_count": 28,
   "metadata": {},
   "outputs": [],
   "source": [
    "X_train, X_test, y_train, y_test = train_test_split(\n",
    "...     x, y, test_size=0.2, random_state=42)"
   ]
  },
  {
   "cell_type": "code",
   "execution_count": 93,
   "metadata": {},
   "outputs": [
    {
     "data": {
      "text/plain": [
       "XGBRegressor(base_score=0.5, booster='gbtree', colsample_bylevel=1,\n",
       "       colsample_bynode=1, colsample_bytree=0.8, eval_metric='rmse',\n",
       "       gamma=0.1, importance_type='gain', learning_rate=0.05,\n",
       "       max_delta_step=0, max_depth=4, min_child_weight=2, missing=None,\n",
       "       n_estimators=500, n_jobs=1, nthread=4, objective='reg:gamma',\n",
       "       random_state=0, reg_alpha=0.05, reg_lambda=1, scale_pos_weight=1,\n",
       "       seed=27, silent=None, subsample=0.8, tree_method='exact',\n",
       "       verbosity=1)"
      ]
     },
     "execution_count": 93,
     "metadata": {},
     "output_type": "execute_result"
    }
   ],
   "source": [
    "#model = xgb.XGBRegressor(max_depth=6, learning_rate=0.05, n_estimators=500, silent=False, objective='reg:gamma')\n",
    "#model.fit(X_train, y_train)\n",
    "\n",
    "\n",
    "xgb1 = xgb.XGBRegressor(booster='gbtree',\n",
    "                    objective= 'reg:gamma',\n",
    "                    eval_metric='rmse',\n",
    "                    gamma = 0.1,\n",
    "                    min_child_weight= 2,\n",
    "                    max_depth= 4,\n",
    "                    subsample= 0.8,\n",
    "                    colsample_bytree= 0.8,\n",
    "                    tree_method= 'exact',\n",
    "                    learning_rate=0.05,\n",
    "                    n_estimators=500,\n",
    "                    nthread=4,\n",
    "                    scale_pos_weight=1,\n",
    "                    reg_alpha=0.05,                           \n",
    "                    seed=27)\n",
    "#xgb1.fit(X_train, y_train)\n",
    "xgb1.fit(x, y)"
   ]
  },
  {
   "cell_type": "code",
   "execution_count": 94,
   "metadata": {},
   "outputs": [
    {
     "name": "stdout",
     "output_type": "stream",
     "text": [
      "MSE为： 5.279040804480788\n",
      "RMSE为： 2.2976163310006283\n"
     ]
    }
   ],
   "source": [
    "y_pred = xgb1.predict(X_test)\n",
    "print('MSE为：',mean_squared_error(y_test,y_pred))\n",
    "\n",
    "print('RMSE为：',np.sqrt(mean_squared_error(y_test,y_pred)))"
   ]
  },
  {
   "cell_type": "code",
   "execution_count": null,
   "metadata": {},
   "outputs": [],
   "source": [
    "def do_xgboost(X_train, y_train, X_test):\n",
    "    # XGBoost训练过程\n",
    "    model = xgb.XGBRegressor(max_depth=6, learning_rate=0.05, n_estimators=500, silent=False, objective='reg:gamma')\n",
    "    model.fit(X_train, y_train)\n",
    "\n",
    "    # 对测试集进行预测\n",
    "    ans = model.predict(X_test)\n",
    "\n",
    "    ans_len = len(ans)\n",
    "    id_list = np.arange(10441, 17441)\n",
    "    data_arr = []\n",
    "    for row in range(0, ans_len):\n",
    "        data_arr.append([int(id_list[row]), ans[row]])\n",
    "    np_data = np.array(data_arr)\n",
    "\n",
    "    # 写入文件\n",
    "    pd_data = pd.DataFrame(np_data, columns=['id', 'y'])\n",
    "    # print(pd_data)\n",
    "    pd_data.to_csv('submit.csv', index=None)\n",
    "\n"
   ]
  },
  {
   "cell_type": "markdown",
   "metadata": {},
   "source": [
    "## USE model to predict"
   ]
  },
  {
   "cell_type": "code",
   "execution_count": 95,
   "metadata": {},
   "outputs": [
    {
     "name": "stderr",
     "output_type": "stream",
     "text": [
      "D:\\coding\\lib\\site-packages\\ipykernel_launcher.py:2: FutureWarning: Method .as_matrix will be removed in a future version. Use .values instead.\n",
      "  \n"
     ]
    }
   ],
   "source": [
    "df_T = pd.read_csv('test_preprocessed.csv',sep=',',header=0)\n",
    "X = df_T.as_matrix()\n",
    "Y = model.predict(X)"
   ]
  },
  {
   "cell_type": "code",
   "execution_count": 96,
   "metadata": {},
   "outputs": [
    {
     "name": "stdout",
     "output_type": "stream",
     "text": [
      "(90, 103)\n",
      "(90,)\n",
      "<class 'numpy.ndarray'>\n"
     ]
    }
   ],
   "source": [
    "print(X.shape)\n",
    "print(Y.shape)\n",
    "print(type(Y))"
   ]
  },
  {
   "cell_type": "code",
   "execution_count": 97,
   "metadata": {},
   "outputs": [],
   "source": [
    "\n",
    "np.savetxt(\"result2.csv\", Y, delimiter=\",\")"
   ]
  },
  {
   "cell_type": "code",
   "execution_count": null,
   "metadata": {},
   "outputs": [],
   "source": []
  },
  {
   "cell_type": "code",
   "execution_count": null,
   "metadata": {},
   "outputs": [],
   "source": []
  },
  {
   "cell_type": "code",
   "execution_count": 42,
   "metadata": {},
   "outputs": [
    {
     "data": {
      "text/plain": [
       "16.331201901744876"
      ]
     },
     "execution_count": 42,
     "metadata": {},
     "output_type": "execute_result"
    }
   ],
   "source": [
    "np.sqrt((19.24*19.24*90 - 96.5*96.5)/90)"
   ]
  },
  {
   "cell_type": "code",
   "execution_count": 46,
   "metadata": {},
   "outputs": [
    {
     "data": {
      "text/plain": [
       "33315.984"
      ]
     },
     "execution_count": 46,
     "metadata": {},
     "output_type": "execute_result"
    }
   ],
   "source": [
    "19.24*19.24*90 #- 96.5*96.5"
   ]
  },
  {
   "cell_type": "code",
   "execution_count": 45,
   "metadata": {},
   "outputs": [
    {
     "data": {
      "text/plain": [
       "9312.25"
      ]
     },
     "execution_count": 45,
     "metadata": {},
     "output_type": "execute_result"
    }
   ],
   "source": [
    "96.5*96.5"
   ]
  },
  {
   "cell_type": "code",
   "execution_count": null,
   "metadata": {},
   "outputs": [],
   "source": []
  }
 ],
 "metadata": {
  "kernelspec": {
   "display_name": "Python 3",
   "language": "python",
   "name": "python3"
  },
  "language_info": {
   "codemirror_mode": {
    "name": "ipython",
    "version": 3
   },
   "file_extension": ".py",
   "mimetype": "text/x-python",
   "name": "python",
   "nbconvert_exporter": "python",
   "pygments_lexer": "ipython3",
   "version": "3.7.3"
  }
 },
 "nbformat": 4,
 "nbformat_minor": 2
}
